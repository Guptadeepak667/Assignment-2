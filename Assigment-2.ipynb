{
 "cells": [
  {
   "cell_type": "markdown",
   "id": "7a553d7b",
   "metadata": {},
   "source": [
    "### Assignment-2"
   ]
  },
  {
   "cell_type": "markdown",
   "id": "5ff74aae",
   "metadata": {},
   "source": [
    "### Que1:- What are the two values of the Boolean data type? How do you write them?"
   ]
  },
  {
   "cell_type": "markdown",
   "id": "39d7a056",
   "metadata": {},
   "source": [
    "Ans:- \n",
    "The Boolean data type has two possible values: True and False. In many programming languages, including Python, you write them exactly as shown here, with the initial letter capitalized:\n",
    "\n",
    "1. True represents the boolean value for \"true\" or \"on.\"\n",
    "2. False represents the boolean value for \"false\" or \"off.\"\n",
    "\n",
    "\n",
    "Here are examples :\n",
    "\n",
    "  is_true = True \n",
    "  \n",
    "  is_false = False\n",
    "\n",
    "\n"
   ]
  },
  {
   "cell_type": "markdown",
   "id": "83ff8663",
   "metadata": {},
   "source": [
    "### Que2:- What are the three different types of Boolean operators?\n"
   ]
  },
  {
   "cell_type": "markdown",
   "id": "3298e683",
   "metadata": {},
   "source": [
    "Ans:\n",
    "#### AND Operator (&& or AND): \n",
    "This operator returns True if both of the operands are True. Otherwise, it returns False.\n",
    "\n",
    "Example:\n",
    "    \n",
    "1. True && True evaluates to True\n",
    "2. True && False evaluates to False\n",
    "3. False && True evaluates to False\n",
    "4. False && False evaluates to False\n",
    "\n",
    "#### OR Operator (|| or OR): \n",
    "This operator returns True if at least one of the operands is True. It returns False only if both operands are False.\n",
    "\n",
    "Example:\n",
    "    \n",
    "1. True || True evaluates to True\n",
    "2. True || False evaluates to True\n",
    "3. False || True evaluates to True\n",
    "4. False || False evaluates to False\n",
    "\n",
    "#### NOT Operator (! or NOT): \n",
    "\n",
    "This operator negates the value of a Boolean operand. It returns True if the operand is False and returns False if the operand is True.\n",
    "\n",
    "Example:\n",
    "    \n",
    "1. !True evaluates to False\n",
    "2. !False evaluates to True\n"
   ]
  },
  {
   "cell_type": "markdown",
   "id": "b676a929",
   "metadata": {},
   "source": [
    "### Que3:- Make a list of each Boolean operator's truth tables (i.e. every possible combination of Boolean values for the operator and what it evaluate).\n"
   ]
  },
  {
   "cell_type": "markdown",
   "id": "c9557d8b",
   "metadata": {},
   "source": [
    "Ans :\n",
    "\n",
    "#### AND Operator (&& or AND)\n",
    "\n",
    "    \n",
    "1. True\t True =\tTrue\n",
    "2. True\t False = False\n",
    "3. False True = False\n",
    "4. False False = False\n",
    "\n",
    "#### OR Operator (|| or OR)\n",
    "\n",
    "1. True  |  True | True   \n",
    "2. True  |  False| True   \n",
    "3. False | True  | True   \n",
    "4. False | False | False  \n",
    "\n",
    "#### NOT Operator (! or NOT)\n",
    "\n",
    "    A\t!A\n",
    " \n",
    "1. True\t    False\n",
    "2. False\tTrue\n",
    "   "
   ]
  },
  {
   "cell_type": "markdown",
   "id": "551dc5cf",
   "metadata": {},
   "source": [
    "### Que4: What are the values of the following expressions?\n",
    "\n"
   ]
  },
  {
   "cell_type": "markdown",
   "id": "388b5b67",
   "metadata": {},
   "source": [
    "Ans:\n",
    "1. (5 > 4) and (3 == 5) = False\n",
    "2. not (5 > 4) = False\n",
    "3. (5 > 4) or (3 == 5) = True\n",
    "4. not ((5 > 4) or (3 == 5)) = False\n",
    "5. (True and True) and (True == False) = False\n",
    "6. (not False) or (not True)= True \n"
   ]
  },
  {
   "cell_type": "markdown",
   "id": "b73932b7",
   "metadata": {},
   "source": [
    "### Que5:- What are the six comparison operators?"
   ]
  },
  {
   "cell_type": "markdown",
   "id": "c7444236",
   "metadata": {},
   "source": [
    "1. Equal To (==): This operator checks if two values are equal to each other.\n",
    "\n",
    "Example: 5 == 5 evaluates to True, while 5 == 6 evaluates to False.\n",
    "\n",
    "1. Equal To (==): This operator checks if two values are equal to each other.\n",
    "\n",
    "Example: 5 == 5 evaluates to True, while 5 == 6 evaluates to False.\n",
    "\n",
    "2. Not Equal To (!=): This operator checks if two values are not equal to each other.\n",
    "\n",
    "Example: 5 != 6 evaluates to True, while 5 != 5 evaluates to False.\n",
    "\n",
    "3. Greater Than (>): This operator checks if the value on the left is greater than the value on the right.\n",
    "\n",
    "Example: 6 > 5 evaluates to True, while 5 > 6 evaluates to False.\n",
    "\n",
    "4. Less Than (<): This operator checks if the value on the left is less than the value on the right.\n",
    "\n",
    "Example: 5 < 6 evaluates to True, while 6 < 5 evaluates to False.\n",
    "\n",
    "5. Greater Than or Equal To (>=): This operator checks if the value on the left is greater than or equal to the value on the right.\n",
    "\n",
    "Example: 6 >= 5 evaluates to True, and 5 >= 5 also evaluates to True, while 5 >= 6 evaluates to False.\n",
    "\n",
    "6. Less Than or Equal To (<=): This operator checks if the value on the left is less than or equal to the value on the right.\n",
    "\n",
    "Example: 5 <= 6 evaluates to True, and 5 <= 5 also evaluates to True, while 6 <= 5 evaluates to False.\n"
   ]
  },
  {
   "cell_type": "markdown",
   "id": "9492edeb",
   "metadata": {},
   "source": [
    "### Que6:- How do you tell the difference between the equal to and assignment operators? Describe a condition and when you would use one.\n"
   ]
  },
  {
   "cell_type": "markdown",
   "id": "bb52dab8",
   "metadata": {},
   "source": [
    "ANS:\n",
    "    \n",
    "#### Equal To Operator (==):\n",
    "\n",
    "1. The double equals sign (==) is a comparison operator used to compare two values for equality.\n",
    "2. It is used to check if the value on the left is equal to the value on the right.\n",
    "3. It returns a Boolean value, True if the values are equal and False if they are not.\n",
    "\n",
    "#### Assignment Operator (=):\n",
    "\n",
    "1. The single equals sign (=) is an assignment operator used to assign a value to a variable.\n",
    "2. It is used to store a value in a variable or update the value of an existing variable.\n",
    "3. It does not return a Boolean value but instead performs the assignment operation.\n"
   ]
  },
  {
   "cell_type": "markdown",
   "id": "fb4748c0",
   "metadata": {},
   "source": [
    "### Que7: Identify the three blocks in this code:\n",
    "spam = 0 \n",
    "\n",
    "if spam == 10:\n",
    "\n",
    "print('eggs')\n",
    "\n",
    "if spam > 5:\n",
    "\n",
    "print('bacon')\n",
    "\n",
    "else:\n",
    "\n",
    "print('ham')\n",
    "\n",
    "print('spam')\n",
    "\n",
    "print('spam') \n"
   ]
  },
  {
   "cell_type": "markdown",
   "id": "e0fc86de",
   "metadata": {},
   "source": [
    "Ans : The code you provided has some indentation issues, but assuming proper indentation, here are the three blocks:"
   ]
  },
  {
   "cell_type": "code",
   "execution_count": 26,
   "id": "c5226ce2",
   "metadata": {},
   "outputs": [],
   "source": [
    "#Block1: \n",
    "spam = 0 \n",
    "if spam == 10:\n",
    "    print('eggs')"
   ]
  },
  {
   "cell_type": "code",
   "execution_count": 10,
   "id": "7055ce49",
   "metadata": {},
   "outputs": [
    {
     "name": "stdout",
     "output_type": "stream",
     "text": [
      "ham\n"
     ]
    }
   ],
   "source": [
    "#Block2: \n",
    "if spam > 5:\n",
    "    print('bacon')\n",
    "else:\n",
    "    print('ham')\n"
   ]
  },
  {
   "cell_type": "code",
   "execution_count": 11,
   "id": "df20b18d",
   "metadata": {},
   "outputs": [
    {
     "name": "stdout",
     "output_type": "stream",
     "text": [
      "spam\n",
      "spam\n"
     ]
    }
   ],
   "source": [
    "#Block3: \n",
    "print('spam')\n",
    "print('spam')\n"
   ]
  },
  {
   "cell_type": "markdown",
   "id": "64d6d84a",
   "metadata": {},
   "source": [
    "### Que8: Write code that prints Hello if 1 is stored in spam, prints Howdy if 2 is stored in spam, and prints Greetings! if anything else is stored in spam."
   ]
  },
  {
   "cell_type": "code",
   "execution_count": 13,
   "id": "91320b4b",
   "metadata": {},
   "outputs": [
    {
     "name": "stdout",
     "output_type": "stream",
     "text": [
      "1\n",
      "Hello\n"
     ]
    }
   ],
   "source": [
    "spam=int(input())\n",
    "if spam==1:\n",
    "    print(\"Hello\")\n",
    "elif spam==2:\n",
    "    print(\"Howdy\")\n",
    "else:\n",
    "    print(\"Greeting!\")\n"
   ]
  },
  {
   "cell_type": "markdown",
   "id": "dd55aee2",
   "metadata": {},
   "source": [
    "### Que9: If your programme is stuck in an endless loop, what keys you'll press?\n"
   ]
  },
  {
   "cell_type": "markdown",
   "id": "e28bc973",
   "metadata": {},
   "source": [
    "Ans: \n",
    "1. CTRL + C (Control + C): This is a common way to break out of an infinite loop on most systems, including Windows, macOS, and Linux. Press and hold the Control key (Ctrl) and then press the \"C\" key. This sends an interrupt signal to the running program, causing it to terminate.\n",
    "\n",
    "2. CTRL + Break (Control + Break): On some systems, you might have a \"Break\" key instead of a \"C\" key. In such cases, you can use the Control + Break combination to interrupt the program.\n"
   ]
  },
  {
   "cell_type": "markdown",
   "id": "29e8f444",
   "metadata": {},
   "source": [
    "### Que10: How can you tell the difference between break and continue?"
   ]
  },
  {
   "cell_type": "markdown",
   "id": "d2ac8488",
   "metadata": {},
   "source": [
    "Ans: \n",
    "#### break Statement:\n",
    "\n",
    "1. The break statement is used to exit or terminate a loop prematurely when a certain condition is met.\n",
    "2. When break is encountered inside a loop (such as a for or while loop), it immediately exits the loop, and the program continues with the first statement after the loop.\n",
    "3. It is typically used to \"break out\" of a loop when a specific condition is satisfied, effectively ending the loop's execution.\n",
    "\n",
    "Example (using a for loop):"
   ]
  },
  {
   "cell_type": "code",
   "execution_count": 15,
   "id": "7620e9fe",
   "metadata": {},
   "outputs": [
    {
     "name": "stdout",
     "output_type": "stream",
     "text": [
      "0\n",
      "1\n",
      "2\n"
     ]
    }
   ],
   "source": [
    "for i in range(5):\n",
    "    if i == 3:\n",
    "        break\n",
    "    print(i)"
   ]
  },
  {
   "cell_type": "markdown",
   "id": "771ff8a2",
   "metadata": {},
   "source": [
    "#### continue Statement:\n",
    "\n",
    "1. The continue statement is used to skip the rest of the current iteration of a loop and proceed to the next iteration.\n",
    "2. When continue is encountered, it immediately returns to the beginning of the loop and starts the next iteration, effectively skipping any code that follows the continue statement within the current iteration.\n",
    "3. It is typically used to bypass specific iterations within a loop when a certain condition is met, but it doesn't exit the loop entirely.\n",
    "\n",
    "Example (using a for loop):"
   ]
  },
  {
   "cell_type": "code",
   "execution_count": 16,
   "id": "7d0345d0",
   "metadata": {},
   "outputs": [
    {
     "name": "stdout",
     "output_type": "stream",
     "text": [
      "0\n",
      "1\n",
      "2\n",
      "4\n"
     ]
    }
   ],
   "source": [
    "for i in range(5):\n",
    "    if i == 3:\n",
    "        continue\n",
    "    print(i)"
   ]
  },
  {
   "cell_type": "markdown",
   "id": "b6a6522b",
   "metadata": {},
   "source": [
    "### Que11: In a for loop, what is the difference between range(10), range(0, 10), and range(0, 10, 1)?\n"
   ]
  },
  {
   "cell_type": "markdown",
   "id": "c7f1ada8",
   "metadata": {},
   "source": [
    "Ans : \n",
    "#### range(10):\n",
    "\n",
    "This expression generates a sequence of numbers starting from 0 (the default start value) up to, but not including, the specified stop value, which is 10 in this case.\n",
    "It generates numbers from 0 to 9, effectively producing a sequence of numbers from 0 to 9.\n",
    "\n",
    "Example:\n"
   ]
  },
  {
   "cell_type": "code",
   "execution_count": 19,
   "id": "381129c1",
   "metadata": {},
   "outputs": [
    {
     "name": "stdout",
     "output_type": "stream",
     "text": [
      "0\n",
      "1\n",
      "2\n",
      "3\n",
      "4\n",
      "5\n",
      "6\n",
      "7\n",
      "8\n",
      "9\n"
     ]
    }
   ],
   "source": [
    "for i in range(10):\n",
    "    print(i)\n"
   ]
  },
  {
   "cell_type": "markdown",
   "id": "6cc89ff1",
   "metadata": {},
   "source": [
    "#### range(0, 10):\n",
    "This expression explicitly specifies both the start and stop values. It generates a sequence of numbers starting from 0 (specified as the start value) and ending at the stop value, which is 10.\n",
    "It generates the same sequence of numbers as range(10), from 0 to 9.\n",
    "\n",
    "Example:\n"
   ]
  },
  {
   "cell_type": "code",
   "execution_count": 20,
   "id": "b2b5a51d",
   "metadata": {},
   "outputs": [
    {
     "name": "stdout",
     "output_type": "stream",
     "text": [
      "0\n",
      "1\n",
      "2\n",
      "3\n",
      "4\n",
      "5\n",
      "6\n",
      "7\n",
      "8\n",
      "9\n"
     ]
    }
   ],
   "source": [
    "for i in range(0, 10):\n",
    "    print(i)\n"
   ]
  },
  {
   "cell_type": "markdown",
   "id": "3ec4e761",
   "metadata": {},
   "source": [
    "#### range(0, 10, 1):\n",
    "This expression specifies the start, stop, and step values. It generates a sequence of numbers starting from 0, ending at 10, and incrementing by 1 at each step.\n",
    "The step value of 1 is the default, so you can omit it, and it won't change the behavior.\n",
    "\n",
    "Example:"
   ]
  },
  {
   "cell_type": "code",
   "execution_count": 21,
   "id": "85b67d19",
   "metadata": {},
   "outputs": [
    {
     "name": "stdout",
     "output_type": "stream",
     "text": [
      "0\n",
      "1\n",
      "2\n",
      "3\n",
      "4\n",
      "5\n",
      "6\n",
      "7\n",
      "8\n",
      "9\n"
     ]
    }
   ],
   "source": [
    "for i in range(0, 10, 1):\n",
    "    print(i)\n"
   ]
  },
  {
   "cell_type": "markdown",
   "id": "7571ce55",
   "metadata": {},
   "source": [
    "### Que12:- Write a short program that prints the numbers 1 to 10 using a for loop. Then write an equivalent program that prints the numbers 1 to 10 using a while loop."
   ]
  },
  {
   "cell_type": "code",
   "execution_count": 24,
   "id": "0d98c809",
   "metadata": {},
   "outputs": [
    {
     "name": "stdout",
     "output_type": "stream",
     "text": [
      "1\n",
      "2\n",
      "3\n",
      "4\n",
      "5\n",
      "6\n",
      "7\n",
      "8\n",
      "9\n",
      "10\n",
      "1\n",
      "2\n",
      "3\n",
      "4\n",
      "5\n",
      "6\n",
      "7\n",
      "8\n",
      "9\n",
      "10\n"
     ]
    }
   ],
   "source": [
    "# Using for loop\n",
    "for i in range(1,11):\n",
    "    print(i)\n",
    "\n",
    "# Using While loop\n",
    "i=1\n",
    "while i<=10:\n",
    "    print(i)\n",
    "    i=i+1\n"
   ]
  },
  {
   "cell_type": "markdown",
   "id": "bef43ea5",
   "metadata": {},
   "source": [
    "### Que13:- If you had a function named bacon() inside a module named spam, how would you call it after importing spam?\n"
   ]
  },
  {
   "cell_type": "markdown",
   "id": "a38b53cd",
   "metadata": {},
   "source": [
    "Ans : \n",
    "\n",
    "import spam\n",
    "spam.bacon()\n",
    "\n",
    "1. The import spam statement imports the spam module into your Python script.\n",
    "2. You can then access the bacon() function by prefixing it with the module name, like spam.bacon(). \n",
    "     This fully qualifies the function, ensuring there is no ambiguity if there are functions with the same name in different modules.\n"
   ]
  }
 ],
 "metadata": {
  "kernelspec": {
   "display_name": "Python 3 (ipykernel)",
   "language": "python",
   "name": "python3"
  },
  "language_info": {
   "codemirror_mode": {
    "name": "ipython",
    "version": 3
   },
   "file_extension": ".py",
   "mimetype": "text/x-python",
   "name": "python",
   "nbconvert_exporter": "python",
   "pygments_lexer": "ipython3",
   "version": "3.11.4"
  }
 },
 "nbformat": 4,
 "nbformat_minor": 5
}
